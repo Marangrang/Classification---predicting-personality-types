{
 "cells": [
  {
   "cell_type": "markdown",
   "metadata": {},
   "source": [
    "# Topic Modeling"
   ]
  },
  {
   "cell_type": "markdown",
   "metadata": {},
   "source": [
    "## Introduction"
   ]
  },
  {
   "cell_type": "markdown",
   "metadata": {},
   "source": [
    "The ultimate goal of topic modeling is to find various topics that are present in your corpus. Each document in the corpus will be made up of at least one topic, if not multiple topics.\n",
    "\n",
    "In this notebook, we will be covering the steps on how to do **Latent Dirichlet Allocation (LDA)**, which is one of many topic modeling techniques. It was specifically designed for text data.\n",
    "\n",
    "To use a topic modeling technique, you need to provide (1) a document-term matrix and (2) the number of topics you would like the algorithm to pick up.\n",
    "\n",
    "Once the topic modeling technique is applied, your job as a human is to interpret the results and \n",
    "see if the mix of words in each topic make sense. If they don't make sense, you can try changing up the number of topics, the terms in the document-term matrix, model parameters, or even try a different model."
   ]
  },
  {
   "cell_type": "markdown",
   "metadata": {},
   "source": [
    "## Topic Modeling - Attempt #1 (All Text)"
   ]
  },
  {
   "cell_type": "code",
   "execution_count": null,
   "metadata": {},
   "outputs": [],
   "source": [
    "# Let's read in our document-term matrix\n",
    "data2 = pd.read_pickle('data_post_stop.pkl')\n",
    "data2"
   ]
  },
  {
   "cell_type": "code",
   "execution_count": null,
   "metadata": {},
   "outputs": [],
   "source": [
    "# Import the necessary modules for LDA with gensim\n",
    "from gensim import matutils, models\n",
    "import scipy.sparse"
   ]
  },
  {
   "cell_type": "code",
   "execution_count": null,
   "metadata": {},
   "outputs": [],
   "source": [
    "# One of the required inputs is a term-document matrix\n",
    "termdm = data2.transpose()\n",
    "termdm = termdm.groupby(level=0, axis=1).sum()\n",
    "termdm.head()"
   ]
  },
  {
   "cell_type": "code",
   "execution_count": null,
   "metadata": {},
   "outputs": [],
   "source": [
    "# We're going to put the term-document matrix into a new gensim format, from df --> sparse matrix --> gensim corpus\n",
    "sparse_counts = scipy.sparse.csr_matrix(termdm)\n",
    "corpus = matutils.Sparse2Corpus(sparse_counts)"
   ]
  },
  {
   "cell_type": "code",
   "execution_count": null,
   "metadata": {},
   "outputs": [],
   "source": [
    "# Gensim also requires dictionary of the all terms and their respective location in the term-document matrix\n",
    "import pickle\n",
    "cv = pickle.load(open(\"cv_stop.pkl\", \"rb\"))\n",
    "id2word = dict((v, k) for k, v in cv.vocabulary_.items())"
   ]
  },
  {
   "cell_type": "markdown",
   "metadata": {},
   "source": [
    "Now that we have the corpus (term-document matrix) and id2word (dictionary of location: term), we need to specify two other parameters - the number of topics and the number of passes. Let's start the number of topics at 2, see if the results make sense, and increase the number from there."
   ]
  },
  {
   "cell_type": "code",
   "execution_count": null,
   "metadata": {},
   "outputs": [],
   "source": [
    "# Now that we have the corpus (term-document matrix) and id2word (dictionary of location: term),\n",
    "# we need to specify two other parameters as well - the number of topics and the number of passes\n",
    "lda_topics_passes = models.LdaModel(corpus=corpus, id2word=id2word, num_topics=2, passes=10)\n",
    "lda_topics_passes.print_topics()"
   ]
  },
  {
   "cell_type": "code",
   "execution_count": null,
   "metadata": {},
   "outputs": [],
   "source": [
    "# LDA for num_topics = 3\n",
    "lda_topics_passes = models.LdaModel(corpus=corpus, id2word=id2word, num_topics=3, passes=10)\n",
    "lda_topics_passes.print_topics()"
   ]
  },
  {
   "cell_type": "code",
   "execution_count": null,
   "metadata": {},
   "outputs": [],
   "source": [
    "# LDA for num_topics = 4\n",
    "lda_topics_passes = models.LdaModel(corpus=corpus, id2word=id2word, num_topics=4, passes=10)\n",
    "lda_topics_passes.print_topics()"
   ]
  },
  {
   "cell_type": "markdown",
   "metadata": {},
   "source": [
    "These topics aren't looking too great. We've tried modifying our parameters. Let's try modifying our terms list as well."
   ]
  },
  {
   "cell_type": "markdown",
   "metadata": {},
   "source": [
    "# Topic Modeling - Attempt #2 (Nouns Only)"
   ]
  },
  {
   "cell_type": "code",
   "execution_count": null,
   "metadata": {},
   "outputs": [],
   "source": [
    "# Let's create a function to pull out nouns from a string of text\n",
    "from nltk import word_tokenize, pos_tag\n",
    "\n",
    "def nouns(text):\n",
    "    '''Given a string of text, tokenize the text and pull out only the nouns.'''\n",
    "    word_noun = lambda position: position[:2] == 'NN'\n",
    "    tokenized = word_tokenize(text)\n",
    "    noun_words = [word for (word, position) in pos_tag(tokenized) if word_noun(position)] \n",
    "    return ' '.join(noun_words)"
   ]
  },
  {
   "cell_type": "code",
   "execution_count": null,
   "metadata": {},
   "outputs": [],
   "source": [
    "# Read in the cleaned data, before the CountVectorizer step\n",
    "data_cleaning = pd.read_pickle('data_cleaning.pkl')\n",
    "data_cleaning"
   ]
  },
  {
   "cell_type": "code",
   "execution_count": null,
   "metadata": {},
   "outputs": [],
   "source": [
    "# Apply the nouns function to the transcripts to filter only on nouns\n",
    "data_nouns = pd.DataFrame(data_cleaning.posts.apply(nouns))\n",
    "data_nouns"
   ]
  },
  {
   "cell_type": "code",
   "execution_count": null,
   "metadata": {},
   "outputs": [],
   "source": [
    "# Create a new document-term matrix using only nouns\n",
    "from sklearn.feature_extraction import text\n",
    "from sklearn.feature_extraction.text import CountVectorizer\n",
    "\n",
    "# Re-add the additional stop words since we are recreating the document-term matrix\n",
    "add_stop_words = ['im','like', 'think', 'people', 'dont', 'know', 'really', 'would', 'one', 'get',\n",
    " 'feel', 'love', 'time', 'ive', 'much', 'say', 'something', 'good', 'start', 'girl',\n",
    " 'things', 'want', 'see', 'way', 'someone', 'also', 'well', 'friends',\n",
    " 'always', 'type', 'lot', 'could', 'make', 'go', 'thing', 'even', 'person', 'need',\n",
    " 'find', 'right', 'never', 'youre', 'thats', 'going', 'life', 'friend',\n",
    " 'pretty', 'though', 'sure', 'said', 'cant', 'first', 'actually', 'still', 'best', 'many', 'take', 'others', 'work', 'read', 'sometimes', 'got',\n",
    " 'around', 'thought', 'try', 'back', 'makes', 'better', 'trying', 'didnt', 'agree', 'kind', 'mean', 'tell', 'post', 'two', 'probably', 'talk',\n",
    " 'anything', 'since', 'maybe', 'understand', 'seems', 'ill', 'id', 'little', 'doesnt', 'thread', 'new', 'long', 'ever', 'years', 'hard', 'might',\n",
    " 'types', 'us', 'everyone','different', 'look', 'usually', 'may', 'day', 'give', 'come', 'personality', 'guess', 'mind', 'relationship', 'bit', 'quite',\n",
    " 'great', 'made', 'thinking', 'everything', 'school', 'seem', 'bad', 'every',\n",
    " 'help', 'yes', 'definitely', 'believe', 'point', 'used', 'infp', 'guys', 'tend','hes', 'use', 'intj', \n",
    " 'often', 'getting', 'interesting', 'last', 'talking', 'infj', 'times', 'another', 'mbti', 'enfp', 'world','question','part', 'theres',\n",
    " 'feeling', 'fun', 'intp', 'enough', 'isnt', 'else', 'hate', 'lol', 'keep',\n",
    " 'anyone', 'nice', 'idea', 'sense','least','enfj', 'entj', 'entp', 'esfj', 'esfp', 'estj', 'estp',\n",
    " 'isfj', 'isfp', 'istj', 'istp','sound','thank','enfjs', 'entjs', 'entps', 'esfjs', 'esfps', 'estjs', 'estps',\n",
    " 'isfjs', 'isfps', 'istjs', 'istps','infjs','infps','intjs','enfps','intps','isnts', 'let', 'problem','im', 'fe',\n",
    " 'feelings', 'happy', 'thanks', 'sorry', 'care', 'especially', 'guy', 'true', 'experience', 'almost',\n",
    " 'hope', 'wrong', 'sounds', 'ask', 'close', 'stuff', 'however', 'far', 'strong', 'let', 'theyre', 'put', 'shes',\n",
    " 'high', 'told', 'year', 'wanted', 'music', 'comes', 'away', 'nothing', 'found', 'head', 'forum', 'start', 'totally',\n",
    " 'making', 'either', 'test', 'without', 'relate', 'enjoy', 'using', 'rather', 'wouldnt', 'exactly', 'reading', 'big',\n",
    " 'reason', 'fact', 'real', 'completely', 'problem', 'girl', 'remember', 'social', 'wish', 'change', 'welcome', 'looking',\n",
    " 'interested', 'ni', 'past', 'along', 'whole', 'able', 'situation', 'emotions', 'old', 'figure', 'similar', 'done', 'show',\n",
    " 'advice', 'havent', 'functions', 'important', 'felt', 'already', 'met', 'alone', 'saying', 'yet', 'seen', 'emotional', 'end',\n",
    " 'family', 'place', 'book', 'ago', 'hear', 'open', 'example', 'live', 'sort', 'man', 'fi', 'oh', 'together', 'awesome', 'relationships',\n",
    " 'ones', 'words', 'personally', 'arent', 'stop', 'mostly', 'matter', 'certain', 'job', 'crazy', 'wont', 'wasnt', 'answer', 'general',\n",
    " 'took', 'although', 'honestly', 'gets', 'meet', 'months', 'means', 'group', 'working', 'started', 'recently', 'needs', 'course',\n",
    " 'mom', 'days', 'conversation', 'less', 'based', 'questions', 'dad', 'easy', 'taking', 'interest', 'funny', 'saw', 'weird', 'depends',\n",
    " 'posts', 'cool', 'mine', 'case', 'enneagram', 'extremely', 'goes', 'honest', 'hurt', 'youve', 'ne', 'night', 'next', 'consider', 'opinion',\n",
    " 'whatever', 'absolutely', 'home', 'learn', 'explain', 'topic', 'prefer', 'play', 'appreciate', 'name', 'heard', 'must', 'seriously', 'self', \n",
    " 'likely', 'function', 'tried', 'couple', 'easily', 'wants', 'generally', 'week', 'known', 'ok', 'asking', 'trust', 'list', 'eyes', 'taken',\n",
    " 'common', 'second', 'unless', 'posted', 'speak', 'write', 'instead', 'stay', 'meant', 'attention', 'ways', 'free', 'whether', 'college', \n",
    " 'female', 'seeing', 'says', 'parents', 'writing', 'fine', 'half', 'si', 'stand', 'god', 'watch', 'haha', 'today', 'personal', 'yeah', 'share',\n",
    " 'become', 'thoughts', 'feels', 'went', 'favorite', 'side', 'kinda', 'curious', 'whats', 'deep', 'towards', 'please', 'video', 'asked',\n",
    " 'possible', 'takes', 'act', 'problems', 'deal', 'etc', 'se', 'male', 'call', 'knew', 'wonder', 'women', 'dating', 'happens', 'face', 'intjs',\n",
    " 'lets', 'works', 'story', 'perfect', 'anyway', 'realize', 'move', 'coming', 'introverted', 'word', 'mother', 'okay', 'movie', 'currently',\n",
    " 'add', 'leave', 'happen', 'ideas', 'listen', 'noticed', 'came', 'game', 'called', 'picture', 'looks', 'stupid', 'understanding', 'issue',\n",
    " 'level', 'issues', 'girls', 'liked', 'future', 'house', 'watching', 'money', 'spend', 'notice', 'three', 'class', 'short', 'view', 'cognitive',\n",
    " 'te', 'order', 'sent', 'moment', 'difficult', 'left', 'sex', 'information', 'lots', 'cause', 'basically', 'fit', 'couldnt', 'ii',\n",
    " 'happened', 'except', 'response', 'reasons', 'full', 'playing', 'brother', 'learning', 'late', 'child', 'books', 'decided', 'thei', 'imagine',\n",
    " 'art', 'small', 'huge', 'wait', 'sleep', 'single', 'kids', 'description', 'top' 'song', 'heart', 'infjs', 'hell', 'sad', 'super',\n",
    " 'human', 'giving', 'wondering', 'value', 'serious', 'youll', 'simply', 'clear', 'break', 'lost', 'learned', 'age', 'typing', 'sister',\n",
    " 'hand', 'random', 'body', 'run', 'internet', 'living', 'character', 'due', 'hours', 'given', 'difference', 'online', 'telling', 'mentioned',\n",
    " 'set', 'room', 'constantly', 'games', 'later', 'glad', 'control', 'perhaps','angry', 'ti', 'loved', 'gonna', 'men', 'fear', 'turn',\n",
    " 'young', 'laugh', 'fall', 'food', 'perc', 'pick', 'confused', 'certainly', 'younger', 'normal', 'outside', 'across', 'physical', 'several',\n",
    " 'simple', 'infps', 'energy', 'truly', 'intps', 'woman', 'older', 'toi', 'knows', 'aware', 'date', 'lack', 'suppose', 'choose', 'plan',\n",
    " 'laughing', 'shit', 'kid', 'language', 'theory', 'eat', 'truth', 'gave', 'check', 'cannot', 'tests', 'amazing', 'peoples', 'boyfriend', 'focus',\n",
    " 'comfortable', 'heres', 'hold','finding', 'respect', 'inside', 'movies', 'hair', 'bored', 'brain', 'situations', 'doubt', 'dominant', 'main',\n",
    " 'worth', 'state', 'number', 'xd', 'bring', 'reply', 'characters', 'meaning', 'knowing', 'likes', 'nature', 'enfps', 'extroverted',\n",
    " 'opposite', 'results', 'specific', 'worry', 'afraid', 'black', 'somewhere', 'behind', 'phone', 'process', 'romantic', 'shy', 'quiet','listening',\n",
    "'power', 'accurate', 'negative', 'cold', 'entps','song','nf','nt','term','introvert','sj','dream', 'ex',\n",
    " 'realized', 'finally', 'weeks', 'early','particular', 'annoying', 'boring', 'describe', 'vs', 'system', 'points', 'rest', 'english', 'avoid']\n",
    "\n",
    "stop_words = text.ENGLISH_STOP_WORDS.union(add_stop_words)\n",
    "\n",
    "# Recreate a document-term matrix with only nouns\n",
    "cv2 = CountVectorizer(max_features=1500, min_df=1, max_df=1.0, stop_words=stop_words)\n",
    "data_cv2 = cv2.fit_transform(data_nouns.posts)\n",
    "data_dtmn = pd.DataFrame(data_cv2.toarray(), columns=cv2.get_feature_names())\n",
    "data_dtmn.index = data_nouns.index\n",
    "data_dtmn"
   ]
  },
  {
   "cell_type": "code",
   "execution_count": null,
   "metadata": {},
   "outputs": [],
   "source": [
    "# Create the gensim corpus\n",
    "corpusn = matutils.Sparse2Corpus(scipy.sparse.csr_matrix(data_dtmn.transpose()))\n",
    "\n",
    "# Create the vocabulary dictionary\n",
    "id2wordn = dict((v, k) for k, v in cv2.vocabulary_.items())"
   ]
  },
  {
   "cell_type": "code",
   "execution_count": null,
   "metadata": {},
   "outputs": [],
   "source": [
    "# Let's start with 2 topics\n",
    "ldan = models.LdaModel(corpus=corpusn, num_topics=2, id2word=id2wordn, passes=10)\n",
    "ldan.print_topics()"
   ]
  },
  {
   "cell_type": "code",
   "execution_count": null,
   "metadata": {},
   "outputs": [],
   "source": [
    "# Let's try topics = 3\n",
    "ldan = models.LdaModel(corpus=corpusn, num_topics=3, id2word=id2wordn, passes=10)\n",
    "ldan.print_topics()"
   ]
  },
  {
   "cell_type": "code",
   "execution_count": null,
   "metadata": {},
   "outputs": [],
   "source": [
    "# Let's try 4 topics\n",
    "ldan = models.LdaModel(corpus=corpusn, num_topics=4, id2word=id2wordn, passes=10)\n",
    "ldan.print_topics()"
   ]
  },
  {
   "cell_type": "markdown",
   "metadata": {},
   "source": [
    "# Topic Modeling - Attempt #3 (Nouns and Adjectives)"
   ]
  },
  {
   "cell_type": "code",
   "execution_count": null,
   "metadata": {},
   "outputs": [],
   "source": [
    "# Let's create a function to pull out nouns from a string of text\n",
    "def nouns_adj(text):\n",
    "    '''Given a string of text, tokenize the text and pull out only the nouns and adjectives.'''\n",
    "    word_noun_adj = lambda pos: pos[:2] == 'NN' or pos[:2] == 'JJ'\n",
    "    tokenized = word_tokenize(text)\n",
    "    nouns_adj = [word for (word, pos) in pos_tag(tokenized) if word_noun_adj(pos)] \n",
    "    return ' '.join(nouns_adj)"
   ]
  },
  {
   "cell_type": "code",
   "execution_count": null,
   "metadata": {},
   "outputs": [],
   "source": [
    "# Apply the nouns function to the transcripts to filter only on nouns\n",
    "data_nouns_adj = pd.DataFrame(data_cleaning.posts.apply(nouns_adj))\n",
    "data_nouns_adj"
   ]
  },
  {
   "cell_type": "code",
   "execution_count": null,
   "metadata": {},
   "outputs": [],
   "source": [
    "# Create a new document-term matrix using only nouns and adjectives, also remove common words with max_df\n",
    "cvna = CountVectorizer(max_features=1500, min_df=1, max_df=1.0, stop_words=stop_words)\n",
    "data_cvna = cvna.fit_transform(data_nouns_adj.posts)\n",
    "data_dtmna = pd.DataFrame(data_cvna.toarray(), columns=cvna.get_feature_names())\n",
    "data_dtmna.index = data_nouns_adj.index\n",
    "data_dtmna"
   ]
  },
  {
   "cell_type": "code",
   "execution_count": null,
   "metadata": {},
   "outputs": [],
   "source": [
    "# Create the gensim corpus\n",
    "corpusna = matutils.Sparse2Corpus(scipy.sparse.csr_matrix(data_dtmna.transpose()))\n",
    "\n",
    "# Create the vocabulary dictionary\n",
    "id2wordna = dict((v, k) for k, v in cvna.vocabulary_.items())"
   ]
  },
  {
   "cell_type": "code",
   "execution_count": null,
   "metadata": {},
   "outputs": [],
   "source": [
    "# Let's start with 2 topics\n",
    "ldana = models.LdaModel(corpus=corpusna, num_topics=2, id2word=id2wordna, passes=10)\n",
    "ldana.print_topics()"
   ]
  },
  {
   "cell_type": "code",
   "execution_count": null,
   "metadata": {},
   "outputs": [],
   "source": [
    "# Let's try 3 topics\n",
    "ldana = models.LdaModel(corpus=corpusna, num_topics=3, id2word=id2wordna, passes=10)\n",
    "ldana.print_topics()"
   ]
  },
  {
   "cell_type": "code",
   "execution_count": null,
   "metadata": {},
   "outputs": [],
   "source": [
    "# Let's try 4 topics\n",
    "ldana = models.LdaModel(corpus=corpusna, num_topics=4, id2word=id2wordna, passes=10)\n",
    "ldana.print_topics()"
   ]
  },
  {
   "cell_type": "markdown",
   "metadata": {},
   "source": [
    "## Identify Topics in Each Document"
   ]
  },
  {
   "cell_type": "markdown",
   "metadata": {},
   "source": [
    "Out of the 9 topic models we looked at, the nouns and adjectives, 4 topic one made the most sense. So let's pull that down here and run it through some more iterations to get more fine-tuned topics."
   ]
  },
  {
   "cell_type": "code",
   "execution_count": null,
   "metadata": {},
   "outputs": [],
   "source": [
    "# Our final LDA model (for now)\n",
    "ldana = models.LdaModel(corpus=corpusna, num_topics=4, id2word=id2wordna, passes=80)\n",
    "ldana.print_topics()"
   ]
  },
  {
   "cell_type": "markdown",
   "metadata": {},
   "source": [
    "These four topics look pretty decent. Let's settle on these for now.\n",
    "* Topic 0: voice, song\n",
    "* Topic 1: science, religion\n",
    "* Topic 2: intuition, logic\n",
    "* Topic 3: spouse, anxiety "
   ]
  },
  {
   "cell_type": "code",
   "execution_count": null,
   "metadata": {},
   "outputs": [],
   "source": [
    "# Let's take a look at which topics each post contains\n",
    "corpus_transformed = ldana[corpusna]\n",
    "list(zip([a for [(a,b)] in corpus_transformed], data_dtmna.index))"
   ]
  }
 ],
 "metadata": {
  "kernelspec": {
   "display_name": "Python 3",
   "language": "python",
   "name": "python3"
  },
  "language_info": {
   "codemirror_mode": {
    "name": "ipython",
    "version": 3
   },
   "file_extension": ".py",
   "mimetype": "text/x-python",
   "name": "python",
   "nbconvert_exporter": "python",
   "pygments_lexer": "ipython3",
   "version": "3.6.5"
  }
 },
 "nbformat": 4,
 "nbformat_minor": 2
}
